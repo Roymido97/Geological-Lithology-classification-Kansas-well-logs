{
  "metadata": {
    "kernelspec": {
      "language": "python",
      "display_name": "Python 3",
      "name": "python3"
    },
    "language_info": {
      "name": "python",
      "version": "3.10.12",
      "mimetype": "text/x-python",
      "codemirror_mode": {
        "name": "ipython",
        "version": 3
      },
      "pygments_lexer": "ipython3",
      "nbconvert_exporter": "python",
      "file_extension": ".py"
    },
    "kaggle": {
      "accelerator": "none",
      "dataSources": [
        {
          "sourceId": 1421867,
          "sourceType": "datasetVersion",
          "datasetId": 831655
        }
      ],
      "dockerImageVersionId": 30839,
      "isInternetEnabled": true,
      "language": "python",
      "sourceType": "notebook",
      "isGpuEnabled": false
    },
    "colab": {
      "name": "Geological Facies: ML Classification Model",
      "provenance": [],
      "include_colab_link": true
    }
  },
  "nbformat_minor": 0,
  "nbformat": 4,
  "cells": [
    {
      "cell_type": "markdown",
      "metadata": {
        "id": "view-in-github",
        "colab_type": "text"
      },
      "source": [
        "<a href=\"https://colab.research.google.com/github/Roymido97/Geological-Lithology-classification-Kansas-well-logs/blob/main/Geological_Facies_ML_Classification_Model.ipynb\" target=\"_parent\"><img src=\"https://colab.research.google.com/assets/colab-badge.svg\" alt=\"Open In Colab\"/></a>"
      ]
    },
    {
      "cell_type": "markdown",
      "source": [
        "# Lithology facies Machine Learning Classification: Using SMOTE, GridSearch, and Ensemble."
      ],
      "metadata": {
        "id": "cN1oWrvYrmji"
      }
    },
    {
      "cell_type": "markdown",
      "source": [
        "\n",
        "# **Introduction and Setup**\n",
        "\n",
        "This notebook explores a dataset related to facies classification in well logs. Facies, representing different rock types, are crucial for understanding subsurface geology and reservoir characterization. The goal is to build a machine learning model capable of accurately predicting facies from well log data.\n",
        "\n",
        "The labeled well log data are from real wells of Council Grove gas reservoir in Southwest Kansas. The Panoma Council Grove Field is predominantly a carbonate gas reservoir encompassing 2700 square miles in Southwestern Kansas.\n",
        "\n",
        "There are totally seven features for each well log:\n",
        "\n",
        "gamma ray (GR)\n",
        "\n",
        "resistivity logging (ILD_log10)\n",
        "\n",
        "photoelectric effect (PE)\n",
        "\n",
        "neutron-density porosity difference\n",
        "average neutron-density porosity (DeltaPHI and PHIND)\n",
        "\n",
        "nonmarine-marine indicator (NM_M)\n",
        "\n",
        "and relative position (RELPOS)\n",
        "\n",
        "![image.png](attachment:43f7895a-d879-424e-811a-fbf469c75f57.png)\n",
        "\n",
        "\n",
        "We begin by importing the necessary libraries for data manipulation, visualization, and machine learning.\n"
      ],
      "metadata": {
        "id": "PfFrJMgOrmjk"
      }
    },
    {
      "cell_type": "markdown",
      "source": [
        "# Importing the necessary libraries"
      ],
      "metadata": {
        "id": "OvDJY1omrmjl"
      }
    },
    {
      "cell_type": "code",
      "source": [
        "# for DataFrame operation\n",
        "import numpy as np\n",
        "import pandas as pd\n",
        "\n",
        "# for visualizations\n",
        "import seaborn as sns\n",
        "import matplotlib.pyplot as plt\n",
        "\n",
        "# for preprocessing\n",
        "from sklearn.impute import KNNImputer\n",
        "from imblearn.over_sampling import SMOTE\n",
        "from sklearn.preprocessing import StandardScaler\n",
        "\n",
        "# for ML modeling\n",
        "from sklearn.svm import SVC\n",
        "from sklearn.naive_bayes import GaussianNB\n",
        "from sklearn.tree import DecisionTreeClassifier\n",
        "from sklearn.neighbors import KNeighborsClassifier\n",
        "from sklearn.linear_model import LogisticRegression\n",
        "from sklearn.model_selection import train_test_split, GridSearchCV\n",
        "from sklearn.ensemble import RandomForestClassifier, VotingClassifier, GradientBoostingClassifier\n",
        "\n",
        "#for Neural Network\n",
        "import tensorflow as tf\n",
        "from tensorflow import keras\n",
        "from tensorflow.keras import layers\n",
        "\n",
        "# for model evaluation\n",
        "from sklearn.metrics import classification_report, confusion_matrix, accuracy_score, ConfusionMatrixDisplay"
      ],
      "metadata": {
        "_uuid": "8f2839f25d086af736a60e9eeb907d3b93b6e0e5",
        "_cell_guid": "b1076dfc-b9ad-4769-8c92-a6c4dae69d19",
        "trusted": true,
        "execution": {
          "iopub.status.busy": "2025-02-09T19:04:39.896285Z",
          "iopub.execute_input": "2025-02-09T19:04:39.896709Z",
          "iopub.status.idle": "2025-02-09T19:05:02.197467Z",
          "shell.execute_reply.started": "2025-02-09T19:04:39.896667Z",
          "shell.execute_reply": "2025-02-09T19:05:02.196036Z"
        },
        "id": "ByBu9DnErmjl"
      },
      "outputs": [],
      "execution_count": null
    },
    {
      "cell_type": "markdown",
      "source": [
        "## 1. Data Loading and Initial Inspection\n",
        "\n",
        "Next, we load the dataset from a Google Drive URL. for more generalized approach."
      ],
      "metadata": {
        "id": "iSXd1a3Ormjm"
      }
    },
    {
      "cell_type": "code",
      "source": [
        "# Load the dataset (Google Drive)\n",
        "url = 'https://drive.google.com/file/d/19UU1UL6J-VfnV29AQoVlpWaqoVOdywPO/view?usp=sharing'\n",
        "path = 'https://drive.google.com/uc?export=download&id=' + url.split('/')[-2]\n",
        "\n",
        "\n",
        "data = pd.read_csv(path)\n",
        "\n",
        "\n",
        "# --- Initial Data Inspection ---\n",
        "print(\"--- Initial Data Inspection ---\")\n",
        "print(data.info())\n",
        "print(\"\\n--- Missing Values ---\")\n",
        "print(data.isnull().sum())\n",
        "print(\"\\n--- First 5 Rows ---\")\n",
        "print(data.head())"
      ],
      "metadata": {
        "trusted": true,
        "execution": {
          "iopub.status.busy": "2025-02-09T19:05:02.198734Z",
          "iopub.execute_input": "2025-02-09T19:05:02.199535Z",
          "iopub.status.idle": "2025-02-09T19:05:04.963385Z",
          "shell.execute_reply.started": "2025-02-09T19:05:02.199475Z",
          "shell.execute_reply": "2025-02-09T19:05:04.961933Z"
        },
        "id": "AKRws7kyrmjm"
      },
      "outputs": [],
      "execution_count": null
    },
    {
      "cell_type": "markdown",
      "source": [
        "## 2. Exploratory Data Analysis (EDA)\n"
      ],
      "metadata": {
        "id": "5Jr3L-hWrmjn"
      }
    },
    {
      "cell_type": "markdown",
      "source": [
        "## 2.1. Descriptive Statistics"
      ],
      "metadata": {
        "id": "GyvsiTYzrmjn"
      }
    },
    {
      "cell_type": "code",
      "source": [
        "print(data.describe())"
      ],
      "metadata": {
        "trusted": true,
        "execution": {
          "iopub.status.busy": "2025-02-09T19:05:04.965225Z",
          "iopub.execute_input": "2025-02-09T19:05:04.96559Z",
          "iopub.status.idle": "2025-02-09T19:05:05.003381Z",
          "shell.execute_reply.started": "2025-02-09T19:05:04.965561Z",
          "shell.execute_reply": "2025-02-09T19:05:05.001968Z"
        },
        "id": "2m22jQnurmjo"
      },
      "outputs": [],
      "execution_count": null
    },
    {
      "cell_type": "markdown",
      "source": [
        "## 2.2. Class Distribution (Target Variable)\n",
        "\n",
        "This is crucial to identify class imbalances. If some classes are significantly under-represented, it may be necessary to use techniques like SMOTE.\n"
      ],
      "metadata": {
        "id": "XxNCuRFErmjo"
      }
    },
    {
      "cell_type": "code",
      "source": [
        "print(\"\\n--- Class Distribution (Target Variable) ---\")\n",
        "print(data['Facies'].value_counts())\n",
        "sns.countplot(x='Facies', data=data)\n",
        "plt.title('Distribution of Facies')\n",
        "plt.show()"
      ],
      "metadata": {
        "trusted": true,
        "execution": {
          "iopub.status.busy": "2025-02-09T19:05:05.005414Z",
          "iopub.execute_input": "2025-02-09T19:05:05.005969Z",
          "iopub.status.idle": "2025-02-09T19:05:05.303773Z",
          "shell.execute_reply.started": "2025-02-09T19:05:05.00592Z",
          "shell.execute_reply": "2025-02-09T19:05:05.302361Z"
        },
        "id": "97gkzzi4rmjo"
      },
      "outputs": [],
      "execution_count": null
    },
    {
      "cell_type": "markdown",
      "source": [
        "### observation\n",
        "- The Facies have a great imbalance, can be remedied using SMOTE"
      ],
      "metadata": {
        "id": "FwzVqD0nrmjp"
      }
    },
    {
      "cell_type": "markdown",
      "source": [
        "## 2.3. Correlation Analysis\n",
        "\n",
        "Look for highly correlated features, which might indicate multicollinearity.  This can impact the performance of some models."
      ],
      "metadata": {
        "id": "p48IZN7Hrmjp"
      }
    },
    {
      "cell_type": "code",
      "source": [
        "# Identifying categorical valuables\n",
        "data.head()"
      ],
      "metadata": {
        "trusted": true,
        "execution": {
          "iopub.status.busy": "2025-02-09T19:05:05.30497Z",
          "iopub.execute_input": "2025-02-09T19:05:05.305371Z",
          "iopub.status.idle": "2025-02-09T19:05:05.325251Z",
          "shell.execute_reply.started": "2025-02-09T19:05:05.305327Z",
          "shell.execute_reply": "2025-02-09T19:05:05.324022Z"
        },
        "id": "gZhuxBmVrmjp"
      },
      "outputs": [],
      "execution_count": null
    },
    {
      "cell_type": "code",
      "source": [
        "# Drop 'Formation' and 'Well Name' columns\n",
        "data = data.drop(columns=['Formation', 'Well Name'])"
      ],
      "metadata": {
        "trusted": true,
        "execution": {
          "iopub.status.busy": "2025-02-09T19:05:05.326468Z",
          "iopub.execute_input": "2025-02-09T19:05:05.326864Z",
          "iopub.status.idle": "2025-02-09T19:05:05.335581Z",
          "shell.execute_reply.started": "2025-02-09T19:05:05.326835Z",
          "shell.execute_reply": "2025-02-09T19:05:05.334405Z"
        },
        "id": "0xoOHR9trmjp"
      },
      "outputs": [],
      "execution_count": null
    },
    {
      "cell_type": "code",
      "source": [
        "print(\"\\n--- Correlation Analysis ---\")\n",
        "plt.figure(figsize=(12, 8))  # Adjust figure size for better readability\n",
        "sns.heatmap(data.corr(), annot=True, cmap='coolwarm', fmt=\".1f\")\n",
        "plt.title('Correlation Heatmap')\n",
        "plt.show()"
      ],
      "metadata": {
        "trusted": true,
        "execution": {
          "iopub.status.busy": "2025-02-09T19:05:05.336723Z",
          "iopub.execute_input": "2025-02-09T19:05:05.337039Z",
          "iopub.status.idle": "2025-02-09T19:05:05.861793Z",
          "shell.execute_reply.started": "2025-02-09T19:05:05.337012Z",
          "shell.execute_reply": "2025-02-09T19:05:05.860577Z"
        },
        "id": "UUVue7J0rmjp"
      },
      "outputs": [],
      "execution_count": null
    },
    {
      "cell_type": "markdown",
      "source": [
        "## 2.4. Feature Distributions\n",
        "This helps you understand the distribution of each feature, identify skewness, and potential outliers.\n"
      ],
      "metadata": {
        "id": "HWWN5pUbrmjq"
      }
    },
    {
      "cell_type": "code",
      "source": [
        "\n",
        "# Histograms for numerical features\n",
        "print(\"\\n--- Feature Distributions ---\")\n",
        "\n",
        "Numerical=data[['Depth','GR','ILD_log10','DeltaPHI','PE','PHIND']]\n",
        "Numerical.hist(figsize=(10, 12), bins=30)\n",
        "plt.tight_layout()\n",
        "plt.show()"
      ],
      "metadata": {
        "trusted": true,
        "execution": {
          "iopub.status.busy": "2025-02-09T19:05:05.865093Z",
          "iopub.execute_input": "2025-02-09T19:05:05.865496Z",
          "iopub.status.idle": "2025-02-09T19:05:07.418215Z",
          "shell.execute_reply.started": "2025-02-09T19:05:05.865466Z",
          "shell.execute_reply": "2025-02-09T19:05:07.417033Z"
        },
        "id": "fChuI4f7rmjq"
      },
      "outputs": [],
      "execution_count": null
    },
    {
      "cell_type": "markdown",
      "source": [
        "### Observations:\n",
        "- the mean of Gamma Ray logs lay between (60 and 80).\n",
        "- the mean of photoelectric effect logs lay between (3 and 4).\n",
        "- the mean of resistivity logs lay between (0.50 and 0.75).\n",
        "- The depth in study is between 2600 to 3100 ft."
      ],
      "metadata": {
        "id": "hmNfKqqermjq"
      }
    },
    {
      "cell_type": "code",
      "source": [
        "# comparing Facies across diff Logs\n",
        "\n",
        "logs = {\n",
        "    'GR': ('Mean Gamma Ray', 'Mean Gamma Ray per Facies'),\n",
        "    'ILD_log10': ('Mean Resistivity', 'Mean Resistivity Log per Facies'),\n",
        "    'PE': ('Mean Photoelectric Effect', 'Mean Photoelectric Effect Log per Facies'),\n",
        "    'PHIND': ('Mean Neutron-Density Porosity', 'Mean Neutron-Density Porosity Log per Facies')\n",
        "}\n",
        "\n",
        "# Create a 2x2 grid of subplots\n",
        "fig, axes = plt.subplots(nrows=2, ncols=2, figsize=(10, 8))\n",
        "\n",
        "\n",
        "axes = axes.flatten()\n",
        "\n",
        "\n",
        "for i, (log_column, (ylabel, title)) in enumerate(logs.items()):\n",
        "    log_per_facies = data.groupby('Facies')[log_column].mean()\n",
        "    log_per_facies.plot(kind='bar', ax=axes[i], xlabel='Facies', ylabel=ylabel, title=title, color='c' )\n",
        "    axes[i].tick_params(axis='x', rotation=0)\n",
        "\n",
        "# Adjust layout and display\n",
        "\n",
        "plt.tight_layout()\n",
        "plt.show()"
      ],
      "metadata": {
        "trusted": true,
        "execution": {
          "iopub.status.busy": "2025-02-09T19:05:07.420089Z",
          "iopub.execute_input": "2025-02-09T19:05:07.420405Z",
          "iopub.status.idle": "2025-02-09T19:05:08.316216Z",
          "shell.execute_reply.started": "2025-02-09T19:05:07.420376Z",
          "shell.execute_reply": "2025-02-09T19:05:08.31481Z"
        },
        "id": "R1Zvnpgormjq"
      },
      "outputs": [],
      "execution_count": null
    },
    {
      "cell_type": "markdown",
      "source": [
        "### Observations:\n",
        "- Gamma Ray:\n",
        "     - The highest content: face 4 (Marine Siltstone and Shale), which is predictable.\n",
        "     - The lowest content: face 9 (Bafflestone).\n",
        "       \n",
        "- Restivity:\n",
        "\n",
        "      - The highest content: face 6 (Mudstone).\n",
        "      - The lowest content: face 1 (Nonmarine Sandstone)\n",
        "\n",
        "- Photoelectric:\n",
        "\n",
        "      - The highest content: face 9 (Bafflestone).\n",
        "      - The lowest content: face 1 (Nonmarine Sandstone).\n",
        "\n",
        "- Neutron-Density Porosity:\n",
        "\n",
        "      - The highest content: face 3 (Nonmarine fine Siltstone).\n",
        "      - The lowest content: face 6 (Mudstone)."
      ],
      "metadata": {
        "id": "PO1CMO6Irmjq"
      }
    },
    {
      "cell_type": "markdown",
      "source": [
        "## 3. Data Preprocessing\n"
      ],
      "metadata": {
        "id": "3kwKtTcCrmjr"
      }
    },
    {
      "cell_type": "code",
      "source": [
        "# Handle missing values using KNN imputation\n",
        "print(\"\\n--- Handling missing values with KNN Imputation ---\")\n",
        "imputer = KNNImputer(n_neighbors=5)\n",
        "data_imputed = imputer.fit_transform(data)  # Apply to the entire dataset"
      ],
      "metadata": {
        "trusted": true,
        "execution": {
          "iopub.status.busy": "2025-02-09T19:05:08.317287Z",
          "iopub.execute_input": "2025-02-09T19:05:08.317635Z",
          "iopub.status.idle": "2025-02-09T19:05:08.601142Z",
          "shell.execute_reply.started": "2025-02-09T19:05:08.317605Z",
          "shell.execute_reply": "2025-02-09T19:05:08.599949Z"
        },
        "id": "Scflo5ELrmjr"
      },
      "outputs": [],
      "execution_count": null
    },
    {
      "cell_type": "code",
      "source": [
        "# Convert back to a DataFrame\n",
        "data_imputed = pd.DataFrame(data_imputed, columns=data.columns)\n",
        "print(data_imputed.info())\n",
        "print(data_imputed.isnull().sum())  # Verify that missing values are handled."
      ],
      "metadata": {
        "trusted": true,
        "execution": {
          "iopub.status.busy": "2025-02-09T19:05:08.602276Z",
          "iopub.execute_input": "2025-02-09T19:05:08.602603Z",
          "iopub.status.idle": "2025-02-09T19:05:08.617646Z",
          "shell.execute_reply.started": "2025-02-09T19:05:08.602575Z",
          "shell.execute_reply": "2025-02-09T19:05:08.616168Z"
        },
        "id": "kyIBAsehrmjr"
      },
      "outputs": [],
      "execution_count": null
    },
    {
      "cell_type": "code",
      "source": [
        "# Define features and target\n",
        "features = ['Depth','GR', 'ILD_log10','DeltaPHI', 'PHIND', 'PE', 'NM_M', 'RELPOS']\n",
        "X = data_imputed[features]\n",
        "y = data_imputed['Facies']"
      ],
      "metadata": {
        "trusted": true,
        "execution": {
          "iopub.status.busy": "2025-02-09T19:05:08.618956Z",
          "iopub.execute_input": "2025-02-09T19:05:08.619345Z",
          "iopub.status.idle": "2025-02-09T19:05:08.642892Z",
          "shell.execute_reply.started": "2025-02-09T19:05:08.6193Z",
          "shell.execute_reply": "2025-02-09T19:05:08.641668Z"
        },
        "id": "iJu7Uz33rmjr"
      },
      "outputs": [],
      "execution_count": null
    },
    {
      "cell_type": "code",
      "source": [
        "# Split data into training and testing sets\n",
        "X_train, X_test, y_train, y_test = train_test_split(X, y, test_size=0.2, random_state=42)\n"
      ],
      "metadata": {
        "trusted": true,
        "execution": {
          "iopub.status.busy": "2025-02-09T19:05:08.644209Z",
          "iopub.execute_input": "2025-02-09T19:05:08.644729Z",
          "iopub.status.idle": "2025-02-09T19:05:08.666799Z",
          "shell.execute_reply.started": "2025-02-09T19:05:08.644694Z",
          "shell.execute_reply": "2025-02-09T19:05:08.665403Z"
        },
        "id": "7stoASZormjr"
      },
      "outputs": [],
      "execution_count": null
    },
    {
      "cell_type": "code",
      "source": [
        "# Handle imbalanced data using SMOTE\n",
        "\n",
        "print(\"\\n--- Handling imbalanced data using SMOTE ---\")\n",
        "smote = SMOTE(random_state=42)\n",
        "X_resampled, y_resampled = smote.fit_resample(X_train, y_train)"
      ],
      "metadata": {
        "trusted": true,
        "execution": {
          "iopub.status.busy": "2025-02-09T19:05:08.668088Z",
          "iopub.execute_input": "2025-02-09T19:05:08.6684Z",
          "iopub.status.idle": "2025-02-09T19:05:08.715659Z",
          "shell.execute_reply.started": "2025-02-09T19:05:08.668372Z",
          "shell.execute_reply": "2025-02-09T19:05:08.714398Z"
        },
        "id": "6L4JvnC-rmjr"
      },
      "outputs": [],
      "execution_count": null
    },
    {
      "cell_type": "code",
      "source": [
        "# Standardize features\n",
        "\n",
        "print(\"\\n--- Standardizing features ---\")\n",
        "scaler = StandardScaler()\n",
        "X_scaled = scaler.fit_transform(X_resampled)\n",
        "X_test_scaled = scaler.transform(X_test)"
      ],
      "metadata": {
        "trusted": true,
        "execution": {
          "iopub.status.busy": "2025-02-09T19:05:08.716692Z",
          "iopub.execute_input": "2025-02-09T19:05:08.717036Z",
          "iopub.status.idle": "2025-02-09T19:05:08.733577Z",
          "shell.execute_reply.started": "2025-02-09T19:05:08.716995Z",
          "shell.execute_reply": "2025-02-09T19:05:08.732296Z"
        },
        "id": "LIWs2upYrmjs"
      },
      "outputs": [],
      "execution_count": null
    },
    {
      "cell_type": "markdown",
      "source": [
        "## 4. Model Training and Evaluation\n"
      ],
      "metadata": {
        "id": "qTUN71Qjrmjs"
      }
    },
    {
      "cell_type": "code",
      "source": [
        "#  models\n",
        "\n",
        "models = {\n",
        "    'SVM': SVC(),\n",
        "    'Gradient Boosting': GradientBoostingClassifier(),\n",
        "    'NB': GaussianNB(),\n",
        "    'DT': DecisionTreeClassifier(),\n",
        "    'KNN': KNeighborsClassifier(),\n",
        "    'Log Reg': LogisticRegression(max_iter=1000),\n",
        "    'RF': RandomForestClassifier()\n",
        "}"
      ],
      "metadata": {
        "trusted": true,
        "execution": {
          "iopub.status.busy": "2025-02-09T19:05:08.734906Z",
          "iopub.execute_input": "2025-02-09T19:05:08.735249Z",
          "iopub.status.idle": "2025-02-09T19:05:08.748839Z",
          "shell.execute_reply.started": "2025-02-09T19:05:08.73522Z",
          "shell.execute_reply": "2025-02-09T19:05:08.74743Z"
        },
        "id": "wtN0pJE5rmjs"
      },
      "outputs": [],
      "execution_count": null
    },
    {
      "cell_type": "code",
      "source": [
        "# Hyperparameter tuning using GridSearchCV\n",
        "\n",
        "param_grids = {\n",
        "    'SVM': {\n",
        "        'C': [ 5,10],  # Regularization parameter\n",
        "        'gamma': [0.01, 0.1 ],  # Kernel coefficient\n",
        "        'kernel': ['rbf', 'sigmoid']  # Kernel type\n",
        "    },\n",
        "    'Gradient Boosting': {\n",
        "        'n_estimators': [ 100, 200],  # Number of boosting stages\n",
        "        'learning_rate': [0.05, 0.1],  # Learning rate\n",
        "        'max_depth': [5, 10]  # Maximum depth of the trees\n",
        "    },\n",
        "    'NB': {\n",
        "        'var_smoothing': [ 1e-7,1e-6]  # Smoothing parameter\n",
        "    },\n",
        "    'DT': {\n",
        "        'max_depth': [ 10, 20],  # Maximum depth of the tree\n",
        "        'min_samples_split': [2, 10],  # Minimum samples required to split a node\n",
        "        'criterion': ['gini', 'entropy']  # Splitting criterion\n",
        "    },\n",
        "    'KNN': {\n",
        "        'n_neighbors': [2, 4, 8],  # Number of neighbors (even values for odd categories, 9 facies)\n",
        "        'weights': ['uniform', 'distance'],  # Weight function\n",
        "        'algorithm': ['auto', 'ball_tree', 'kd_tree']  # Algorithm used to compute nearest neighbors\n",
        "    },\n",
        "    'Log Reg': {\n",
        "        'C': [0.1,  10],  # Inverse of regularization strength\n",
        "        'solver': ['lbfgs', 'liblinear']  # Optimization algorithm\n",
        "    },\n",
        "    'RF': {\n",
        "        'n_estimators': [100, 500],  # Number of trees in the forest\n",
        "        'max_depth': [ 10, 20],  # Maximum depth of the trees\n",
        "        'criterion': ['gini', 'entropy']  # Splitting criterion\n",
        "    }\n",
        "}"
      ],
      "metadata": {
        "trusted": true,
        "execution": {
          "iopub.status.busy": "2025-02-09T19:30:33.002624Z",
          "iopub.execute_input": "2025-02-09T19:30:33.003035Z",
          "iopub.status.idle": "2025-02-09T19:30:33.010936Z",
          "shell.execute_reply.started": "2025-02-09T19:30:33.003005Z",
          "shell.execute_reply": "2025-02-09T19:30:33.009571Z"
        },
        "id": "f8AuqCKTrmjs"
      },
      "outputs": [],
      "execution_count": null
    },
    {
      "cell_type": "code",
      "source": [
        "# GridSearchCV\n",
        "\n",
        "for model_name, model in models.items():\n",
        "    print(f\"Tuning hyperparameters for {model_name}...\")\n",
        "\n",
        "    grid_search = GridSearchCV(estimator=model, param_grid=param_grids[model_name], cv=5, scoring='accuracy', n_jobs=-1)\n",
        "    grid_search.fit(X_scaled, y_resampled)\n",
        "\n",
        "    print(f\"Best parameters for {model_name}: {grid_search.best_params_}\")\n",
        "    print(f\"Best cross-validation score for {model_name}: {grid_search.best_score_:.4f}\\n\")"
      ],
      "metadata": {
        "trusted": true,
        "execution": {
          "iopub.status.busy": "2025-02-09T19:30:38.775237Z",
          "iopub.execute_input": "2025-02-09T19:30:38.775706Z",
          "iopub.status.idle": "2025-02-09T19:47:23.570618Z",
          "shell.execute_reply.started": "2025-02-09T19:30:38.775675Z",
          "shell.execute_reply": "2025-02-09T19:47:23.569205Z"
        },
        "id": "HwvltLfdrmjt"
      },
      "outputs": [],
      "execution_count": null
    },
    {
      "cell_type": "code",
      "source": [
        "\n",
        "best_model_name = 'RF'\n",
        "best_model = RandomForestClassifier(\n",
        "    criterion='entropy',\n",
        "    max_depth=20,\n",
        "    n_estimators=500\n",
        ")\n",
        "\n",
        "best_model.fit(X_scaled, y_resampled)\n",
        "\n",
        "y_pred = best_model.predict(X_test_scaled)\n",
        "\n",
        "# confusion matrix\n",
        "\n",
        "cm = confusion_matrix(y_test, y_pred)\n",
        "disp = ConfusionMatrixDisplay(confusion_matrix=cm, display_labels=best_model.classes_)\n",
        "disp.plot(cmap=plt.cm.Blues)\n",
        "plt.title(f'Confusion Matrix for {best_model_name}')\n",
        "plt.show()\n"
      ],
      "metadata": {
        "trusted": true,
        "execution": {
          "iopub.status.busy": "2025-02-09T19:56:02.708154Z",
          "iopub.execute_input": "2025-02-09T19:56:02.708552Z",
          "iopub.status.idle": "2025-02-09T19:56:14.871496Z",
          "shell.execute_reply.started": "2025-02-09T19:56:02.708522Z",
          "shell.execute_reply": "2025-02-09T19:56:14.870334Z"
        },
        "id": "IY-FXcu8rmjt"
      },
      "outputs": [],
      "execution_count": null
    },
    {
      "cell_type": "code",
      "source": [
        "# Convert classes to strings\n",
        "\n",
        "target_names = [str(cls) for cls in best_model.classes_]\n",
        "\n",
        "# classification report\n",
        "\n",
        "print(f\"Classification Report for {best_model_name}:\\n\")\n",
        "print(classification_report(y_test, y_pred, target_names=target_names))"
      ],
      "metadata": {
        "trusted": true,
        "execution": {
          "iopub.status.busy": "2025-02-09T19:57:22.923517Z",
          "iopub.execute_input": "2025-02-09T19:57:22.924097Z",
          "iopub.status.idle": "2025-02-09T19:57:22.949166Z",
          "shell.execute_reply.started": "2025-02-09T19:57:22.924045Z",
          "shell.execute_reply": "2025-02-09T19:57:22.946961Z"
        },
        "id": "z8Je3y-Krmju"
      },
      "outputs": [],
      "execution_count": null
    },
    {
      "cell_type": "code",
      "source": [],
      "metadata": {
        "trusted": true,
        "execution": {
          "iopub.status.busy": "2025-02-09T19:52:52.400834Z",
          "iopub.execute_input": "2025-02-09T19:52:52.401206Z",
          "iopub.status.idle": "2025-02-09T19:52:52.428624Z",
          "shell.execute_reply.started": "2025-02-09T19:52:52.401181Z",
          "shell.execute_reply": "2025-02-09T19:52:52.426834Z"
        },
        "id": "8DAVEV5Qrmju"
      },
      "outputs": [],
      "execution_count": null
    },
    {
      "cell_type": "code",
      "source": [],
      "metadata": {
        "trusted": true,
        "id": "QlZGbPfMrmju"
      },
      "outputs": [],
      "execution_count": null
    }
  ]
}